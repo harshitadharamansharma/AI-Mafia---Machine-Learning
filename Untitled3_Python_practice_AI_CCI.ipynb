{
  "nbformat": 4,
  "nbformat_minor": 0,
  "metadata": {
    "colab": {
      "provenance": [],
      "authorship_tag": "ABX9TyOzZcSd3nGHI/x+5isy9YNV",
      "include_colab_link": true
    },
    "kernelspec": {
      "name": "python3",
      "display_name": "Python 3"
    },
    "language_info": {
      "name": "python"
    }
  },
  "cells": [
    {
      "cell_type": "markdown",
      "metadata": {
        "id": "view-in-github",
        "colab_type": "text"
      },
      "source": [
        "<a href=\"https://colab.research.google.com/github/harshitadharamansharma/AI-Mafia---Machine-Learning/blob/main/Untitled3_Python_practice_AI_CCI.ipynb\" target=\"_parent\"><img src=\"https://colab.research.google.com/assets/colab-badge.svg\" alt=\"Open In Colab\"/></a>"
      ]
    },
    {
      "cell_type": "code",
      "execution_count": null,
      "metadata": {
        "id": "0xdea-BOVqju"
      },
      "outputs": [],
      "source": [
        "import pickle"
      ]
    },
    {
      "cell_type": "code",
      "source": [
        "# name of the file where you have to store object\n",
        "file='file.data'\n",
        "\n",
        "obj = [1,2,3]\n",
        "\n",
        "# write to file\n",
        "f = open(file, 'wb')\n",
        "\n",
        "# dump the objecr to the file\n",
        "pickle.dump(obj, f)\n",
        "f.close()"
      ],
      "metadata": {
        "id": "vwVZimDbW0d-"
      },
      "execution_count": null,
      "outputs": []
    },
    {
      "cell_type": "code",
      "source": [
        "f = open(file, 'rb')\n",
        "\n",
        "# load the objecr form the file\n",
        "obj = pickle.load(f)\n",
        "print(obj)\n",
        "f.close()"
      ],
      "metadata": {
        "colab": {
          "base_uri": "https://localhost:8080/"
        },
        "id": "FNEnpznAXJd6",
        "outputId": "eba05aec-5c05-45a8-a77f-b34976f729e9"
      },
      "execution_count": null,
      "outputs": [
        {
          "output_type": "stream",
          "name": "stdout",
          "text": [
            "[1, 2, 3]\n"
          ]
        }
      ]
    },
    {
      "cell_type": "code",
      "source": [
        "i = 1\n",
        "while i<20:\n",
        "    print(i, end=' ')\n",
        "    i+=1"
      ],
      "metadata": {
        "colab": {
          "base_uri": "https://localhost:8080/"
        },
        "id": "YY3-n4-0AnM0",
        "outputId": "7bc81696-88f2-4a01-cc7c-1aa781815c19"
      },
      "execution_count": null,
      "outputs": [
        {
          "output_type": "stream",
          "name": "stdout",
          "text": [
            "1 2 3 4 5 6 7 8 9 10 11 12 13 14 15 16 17 18 19 "
          ]
        }
      ]
    },
    {
      "cell_type": "code",
      "source": [
        "a = range(1,10)"
      ],
      "metadata": {
        "id": "0Kdb0ZC4A34J"
      },
      "execution_count": null,
      "outputs": []
    },
    {
      "cell_type": "code",
      "source": [
        "for i in range(1, 22, 3):\n",
        "    print(i, end=' ')"
      ],
      "metadata": {
        "colab": {
          "base_uri": "https://localhost:8080/"
        },
        "id": "AOc3_9GQA7p3",
        "outputId": "0dc2e313-28c8-4a0f-b344-60e3e7346296"
      },
      "execution_count": null,
      "outputs": [
        {
          "output_type": "stream",
          "name": "stdout",
          "text": [
            "1 4 7 10 13 16 19 "
          ]
        }
      ]
    },
    {
      "cell_type": "markdown",
      "source": [
        "# formatting strings"
      ],
      "metadata": {
        "id": "OFNCBCDZ_Rdp"
      }
    },
    {
      "cell_type": "code",
      "source": [
        "mystring = \"Capital of %s is %s is number %d\"%(\"India\", \"Delhi\", 1)\n",
        "print(mystring)"
      ],
      "metadata": {
        "colab": {
          "base_uri": "https://localhost:8080/"
        },
        "id": "x3nU3M1C_VkB",
        "outputId": "2d9234ac-b240-4d28-bfe4-cf168f76233b"
      },
      "execution_count": null,
      "outputs": [
        {
          "output_type": "stream",
          "name": "stdout",
          "text": [
            "Capital of India is Delhi is number 1\n"
          ]
        }
      ]
    },
    {
      "cell_type": "code",
      "source": [
        "mystring2 = \"Capital of {} is {} and is number {}.\".format(\"India\", \"Delhi\", 1)\n",
        "print(mystring2)"
      ],
      "metadata": {
        "colab": {
          "base_uri": "https://localhost:8080/"
        },
        "id": "uZx3xLIy_pFZ",
        "outputId": "1d34ca5e-28b8-4aa9-dfcd-17c02d630331"
      },
      "execution_count": null,
      "outputs": [
        {
          "output_type": "stream",
          "name": "stdout",
          "text": [
            "Capital of India is Delhi and is number 1.\n"
          ]
        }
      ]
    },
    {
      "cell_type": "code",
      "source": [
        "# local and global variables\n",
        "\n",
        "x = 50\n",
        "\n",
        "def func():\n",
        "    global x\n",
        "    print('x is', x)\n",
        "    x = 2\n",
        "    print('Changed local x to', x)\n",
        "\n",
        "func()\n",
        "# print('x is still', x)\n",
        "print('x is changed and is', x)\n"
      ],
      "metadata": {
        "colab": {
          "base_uri": "https://localhost:8080/"
        },
        "id": "0Q0vHfp5ADs4",
        "outputId": "3f9b7ba8-b6aa-4a65-dff2-75e4e4ff648e"
      },
      "execution_count": null,
      "outputs": [
        {
          "output_type": "stream",
          "name": "stdout",
          "text": [
            "x is 50\n",
            "Changed local x to 2\n",
            "x is changed and is 2\n"
          ]
        }
      ]
    },
    {
      "cell_type": "markdown",
      "source": [
        "# keyword and variable arguments"
      ],
      "metadata": {
        "id": "DcgGPn3nCKM8"
      }
    },
    {
      "cell_type": "code",
      "source": [
        "def total(a=5, *numbers, **keyvalue ):\n",
        "  print(a)\n",
        "\n",
        "   # these values will be sent as a tuple\n",
        "  for item in numbers:\n",
        "    print(item, end = \" \")\n",
        "\n",
        "  print()\n",
        "\n",
        "  # these values will be sent as a dictionary\n",
        "  for key, value in keyvalue.items():\n",
        "    print(key, value)\n",
        "\n",
        "\n",
        "total( 10, 20, 30, 40, name=\"hum\", middle=\"harshita\", surname=\"surname\")"
      ],
      "metadata": {
        "colab": {
          "base_uri": "https://localhost:8080/"
        },
        "id": "b8KddcwCCO63",
        "outputId": "1737696e-02ad-44a6-bb24-73c54e33051c"
      },
      "execution_count": null,
      "outputs": [
        {
          "output_type": "stream",
          "name": "stdout",
          "text": [
            "10\n",
            "20 30 40 \n",
            "name hum\n",
            "middle harshita\n",
            "surname surname\n"
          ]
        }
      ]
    },
    {
      "cell_type": "markdown",
      "source": [
        "# list comprehension"
      ],
      "metadata": {
        "id": "KwK9UMtCD7rl"
      }
    },
    {
      "cell_type": "code",
      "source": [
        "number = input().split()\n",
        "list_number = []\n",
        "\n",
        "for i in number:\n",
        "  list_number.append(int(i))\n",
        "\n",
        "print(list_number)\n"
      ],
      "metadata": {
        "colab": {
          "base_uri": "https://localhost:8080/"
        },
        "id": "4BVCcR7RDJ2k",
        "outputId": "83abb8f4-f961-420d-fb03-f3e5d00a42e7"
      },
      "execution_count": null,
      "outputs": [
        {
          "output_type": "stream",
          "name": "stdout",
          "text": [
            "1 3 4 5 6 7 89 9 0\n",
            "[1, 3, 4, 5, 6, 7, 89, 9, 0]\n"
          ]
        }
      ]
    },
    {
      "cell_type": "code",
      "source": [
        "list_number = [int(i) for i in input().split()]\n",
        "print(list_number)\n",
        "print(type(list_number))\n"
      ],
      "metadata": {
        "colab": {
          "base_uri": "https://localhost:8080/"
        },
        "id": "XXfLWy5QFYXr",
        "outputId": "25a7442b-9515-4960-95f9-0a69838d1495"
      },
      "execution_count": null,
      "outputs": [
        {
          "output_type": "stream",
          "name": "stdout",
          "text": [
            "5 4 6 3 77 3 8 1 5 99\n",
            "[5, 4, 6, 3, 77, 3, 8, 1, 5, 99]\n",
            "<class 'list'>\n"
          ]
        }
      ]
    },
    {
      "cell_type": "markdown",
      "source": [
        "# Python Data Structure\n",
        "\n",
        " - String\n",
        " - Lists\n",
        " - Tuples\n",
        " - Dictionaries\n",
        " - Sets"
      ],
      "metadata": {
        "id": "r7KMkomrGO4E"
      }
    },
    {
      "cell_type": "markdown",
      "source": [
        "# String"
      ],
      "metadata": {
        "id": "8iXu8qkpHTri"
      }
    },
    {
      "cell_type": "code",
      "source": [
        "a = 'Stirng'\n",
        "b = \"Stirng\"\n",
        "c = \"\"\"String\"\"\"\n",
        "d = '''String'''"
      ],
      "metadata": {
        "id": "-Jy8wx_AGIOC"
      },
      "execution_count": null,
      "outputs": []
    },
    {
      "cell_type": "markdown",
      "source": [
        "# Change | delete a string"
      ],
      "metadata": {
        "id": "GQ48pMA_Iix0"
      }
    },
    {
      "cell_type": "code",
      "source": [
        "# Strings are immutable"
      ],
      "metadata": {
        "id": "GSqL78Y1IiOy"
      },
      "execution_count": null,
      "outputs": []
    },
    {
      "cell_type": "code",
      "source": [
        "new_string = \"coding\""
      ],
      "metadata": {
        "id": "POOrAAV1IzSo"
      },
      "execution_count": null,
      "outputs": []
    },
    {
      "cell_type": "code",
      "source": [
        "new_string = \"club\""
      ],
      "metadata": {
        "id": "KpaJX30Xry42"
      },
      "execution_count": null,
      "outputs": []
    },
    {
      "cell_type": "code",
      "source": [
        "del new_string\n",
        "\n",
        "# new_string #this will not work"
      ],
      "metadata": {
        "id": "tcH9DT5nr6lJ"
      },
      "execution_count": null,
      "outputs": []
    },
    {
      "cell_type": "code",
      "source": [
        "new_string"
      ],
      "metadata": {
        "colab": {
          "base_uri": "https://localhost:8080/",
          "height": 141
        },
        "id": "YDIlPTS5r8Yz",
        "outputId": "83ab99a3-3d96-4e99-ddd5-1bc47f11c42a"
      },
      "execution_count": null,
      "outputs": [
        {
          "output_type": "error",
          "ename": "NameError",
          "evalue": "name 'new_string' is not defined",
          "traceback": [
            "\u001b[0;31m---------------------------------------------------------------------------\u001b[0m",
            "\u001b[0;31mNameError\u001b[0m                                 Traceback (most recent call last)",
            "\u001b[0;32m<ipython-input-5-b20dca2c39f5>\u001b[0m in \u001b[0;36m<cell line: 1>\u001b[0;34m()\u001b[0m\n\u001b[0;32m----> 1\u001b[0;31m \u001b[0mnew_string\u001b[0m\u001b[0;34m\u001b[0m\u001b[0;34m\u001b[0m\u001b[0m\n\u001b[0m",
            "\u001b[0;31mNameError\u001b[0m: name 'new_string' is not defined"
          ]
        }
      ]
    },
    {
      "cell_type": "markdown",
      "source": [
        "# Operations"
      ],
      "metadata": {
        "id": "gqiYYsZ4usDd"
      }
    },
    {
      "cell_type": "markdown",
      "source": [
        "- Concatenation\n",
        "- Membership test\n",
        "- String Methods"
      ],
      "metadata": {
        "id": "sUzUbQyBu_ku"
      }
    },
    {
      "cell_type": "code",
      "source": [
        "#concatenate\n",
        "\n",
        "s1 = \"Hello\"\n",
        "s2 = \"World\"\n",
        "s3 = s1 + s2\n",
        "print(s3)"
      ],
      "metadata": {
        "colab": {
          "base_uri": "https://localhost:8080/"
        },
        "id": "jbniWA8FvGyw",
        "outputId": "083c9889-fa1f-43c3-eb72-7b1bbe10e610"
      },
      "execution_count": null,
      "outputs": [
        {
          "output_type": "stream",
          "name": "stdout",
          "text": [
            "HelloWorld\n"
          ]
        }
      ]
    },
    {
      "cell_type": "code",
      "source": [
        "# Slicing\n",
        "a=\"Hello I am not a student\"\n",
        "print(a[2:5])"
      ],
      "metadata": {
        "colab": {
          "base_uri": "https://localhost:8080/"
        },
        "id": "KyCsoDjKvPmm",
        "outputId": "e71505a2-e3a9-4be2-f880-f9d4928d76d1"
      },
      "execution_count": null,
      "outputs": [
        {
          "output_type": "stream",
          "name": "stdout",
          "text": [
            "llo\n"
          ]
        }
      ]
    },
    {
      "cell_type": "code",
      "source": [
        "a.find(\"not\")"
      ],
      "metadata": {
        "colab": {
          "base_uri": "https://localhost:8080/"
        },
        "id": "DhMAza3VvZOS",
        "outputId": "c2877baf-9b85-41e2-b7a9-51e6fe08a16d"
      },
      "execution_count": null,
      "outputs": [
        {
          "output_type": "execute_result",
          "data": {
            "text/plain": [
              "11"
            ]
          },
          "metadata": {},
          "execution_count": 10
        }
      ]
    },
    {
      "cell_type": "code",
      "source": [
        "a.find(\"a\")"
      ],
      "metadata": {
        "colab": {
          "base_uri": "https://localhost:8080/"
        },
        "id": "0FolEBRvvoiC",
        "outputId": "3c3c4a4a-a101-4738-fdf9-c063c2cde60c"
      },
      "execution_count": null,
      "outputs": [
        {
          "output_type": "execute_result",
          "data": {
            "text/plain": [
              "8"
            ]
          },
          "metadata": {},
          "execution_count": 11
        }
      ]
    },
    {
      "cell_type": "code",
      "source": [
        "sliced = a[4::2]\n",
        "\n",
        "print(sliced)"
      ],
      "metadata": {
        "colab": {
          "base_uri": "https://localhost:8080/"
        },
        "id": "asKjjWw5vsiB",
        "outputId": "94138156-26da-473d-93cf-7e865225172b"
      },
      "execution_count": null,
      "outputs": [
        {
          "output_type": "stream",
          "name": "stdout",
          "text": [
            "oIa o  tdn\n"
          ]
        }
      ]
    },
    {
      "cell_type": "markdown",
      "source": [
        "## reverse a string using slicing"
      ],
      "metadata": {
        "id": "-nEwb24I07JP"
      }
    },
    {
      "cell_type": "code",
      "source": [
        "h = \"reverse this string using slicing\"\n",
        "print(h[::-1])"
      ],
      "metadata": {
        "colab": {
          "base_uri": "https://localhost:8080/"
        },
        "id": "ZL0Wd0S9z5Nj",
        "outputId": "82dd8c4f-621f-42c3-bde5-ab5bb109219a"
      },
      "execution_count": null,
      "outputs": [
        {
          "output_type": "stream",
          "name": "stdout",
          "text": [
            "gnicils gnisu gnirts siht esrever\n"
          ]
        }
      ]
    },
    {
      "cell_type": "markdown",
      "source": [
        "# membership operator"
      ],
      "metadata": {
        "id": "eWgPMM901nuT"
      }
    },
    {
      "cell_type": "code",
      "source": [
        "if \"this\" in h:\n",
        "    print(\"yes\")\n",
        "else:\n",
        "    print(\"no\")"
      ],
      "metadata": {
        "colab": {
          "base_uri": "https://localhost:8080/"
        },
        "id": "4Fs4RwPx0Q8S",
        "outputId": "abcae559-bf4c-4a2c-e208-21f2565bc34e"
      },
      "execution_count": null,
      "outputs": [
        {
          "output_type": "stream",
          "name": "stdout",
          "text": [
            "yes\n"
          ]
        }
      ]
    },
    {
      "cell_type": "code",
      "source": [
        "len(a)"
      ],
      "metadata": {
        "colab": {
          "base_uri": "https://localhost:8080/"
        },
        "id": "XfOkfzWZ1Kyn",
        "outputId": "e2205215-334a-46cc-9925-0c658529081b"
      },
      "execution_count": null,
      "outputs": [
        {
          "output_type": "execute_result",
          "data": {
            "text/plain": [
              "24"
            ]
          },
          "metadata": {},
          "execution_count": 16
        }
      ]
    },
    {
      "cell_type": "code",
      "source": [
        "h.find(\"this\")"
      ],
      "metadata": {
        "colab": {
          "base_uri": "https://localhost:8080/"
        },
        "id": "vjNfuYX13e5c",
        "outputId": "abc374b9-abd5-4679-f5b9-90dff76f938e"
      },
      "execution_count": null,
      "outputs": [
        {
          "output_type": "execute_result",
          "data": {
            "text/plain": [
              "8"
            ]
          },
          "metadata": {},
          "execution_count": 18
        }
      ]
    },
    {
      "cell_type": "code",
      "source": [
        "h.index(\"this\")"
      ],
      "metadata": {
        "colab": {
          "base_uri": "https://localhost:8080/"
        },
        "id": "NISTGB-t3mRa",
        "outputId": "ec2c4d39-2d1d-4c91-ea0e-915ba9e9cb09"
      },
      "execution_count": null,
      "outputs": [
        {
          "output_type": "execute_result",
          "data": {
            "text/plain": [
              "8"
            ]
          },
          "metadata": {},
          "execution_count": 19
        }
      ]
    },
    {
      "cell_type": "code",
      "source": [
        "h.find(\"jk\") # return -1"
      ],
      "metadata": {
        "colab": {
          "base_uri": "https://localhost:8080/"
        },
        "id": "_dle-nti3zZh",
        "outputId": "e6aee8d6-7e0e-4c18-f21a-ae4558b08484"
      },
      "execution_count": null,
      "outputs": [
        {
          "output_type": "execute_result",
          "data": {
            "text/plain": [
              "-1"
            ]
          },
          "metadata": {},
          "execution_count": 21
        }
      ]
    },
    {
      "cell_type": "code",
      "source": [
        "h.index(\"jk\") # return / throw an exception/ error"
      ],
      "metadata": {
        "colab": {
          "base_uri": "https://localhost:8080/",
          "height": 141
        },
        "id": "mrAloTis39HG",
        "outputId": "7feea347-85b6-4d1c-9a28-81292f341b9a"
      },
      "execution_count": null,
      "outputs": [
        {
          "output_type": "error",
          "ename": "ValueError",
          "evalue": "substring not found",
          "traceback": [
            "\u001b[0;31m---------------------------------------------------------------------------\u001b[0m",
            "\u001b[0;31mValueError\u001b[0m                                Traceback (most recent call last)",
            "\u001b[0;32m<ipython-input-22-60df034d08e6>\u001b[0m in \u001b[0;36m<cell line: 1>\u001b[0;34m()\u001b[0m\n\u001b[0;32m----> 1\u001b[0;31m \u001b[0mh\u001b[0m\u001b[0;34m.\u001b[0m\u001b[0mindex\u001b[0m\u001b[0;34m(\u001b[0m\u001b[0;34m\"jk\"\u001b[0m\u001b[0;34m)\u001b[0m\u001b[0;34m\u001b[0m\u001b[0;34m\u001b[0m\u001b[0m\n\u001b[0m",
            "\u001b[0;31mValueError\u001b[0m: substring not found"
          ]
        }
      ]
    },
    {
      "cell_type": "code",
      "source": [
        "def check_substring(string, sub_string):\n",
        "  if string.find(sub_string)==-1:\n",
        "    return False\n",
        "  else:\n",
        "    return True\n"
      ],
      "metadata": {
        "id": "Lz2e1exj4AqS"
      },
      "execution_count": null,
      "outputs": []
    },
    {
      "cell_type": "code",
      "source": [
        "check_substring(h,\"ll\")"
      ],
      "metadata": {
        "colab": {
          "base_uri": "https://localhost:8080/"
        },
        "id": "6iZe90xC4TL3",
        "outputId": "e0b2da8b-93de-4f1a-f8d2-93ca5dde81b3"
      },
      "execution_count": null,
      "outputs": [
        {
          "output_type": "execute_result",
          "data": {
            "text/plain": [
              "False"
            ]
          },
          "metadata": {},
          "execution_count": 34
        }
      ]
    },
    {
      "cell_type": "markdown",
      "source": [
        "# List"
      ],
      "metadata": {
        "id": "VibgXY1j7Lvz"
      }
    },
    {
      "cell_type": "code",
      "source": [
        "# It is an hetrogeneous array\n",
        "# list is mutable\n",
        "l = [\"mango\", \"banana\", \"apple\"]\n",
        "l2 = list([\"mango\", 2, 2.5, \"values\"  ])"
      ],
      "metadata": {
        "id": "C3gvnQM94kIi"
      },
      "execution_count": null,
      "outputs": []
    },
    {
      "cell_type": "code",
      "source": [
        "print(l, type(l))"
      ],
      "metadata": {
        "colab": {
          "base_uri": "https://localhost:8080/"
        },
        "id": "pLZUGnWZ7D2Y",
        "outputId": "e16e57f7-1348-4e5e-ea03-e3d1aa4d6077"
      },
      "execution_count": null,
      "outputs": [
        {
          "output_type": "stream",
          "name": "stdout",
          "text": [
            "['mango', 'banana', 'apple'] <class 'list'>\n"
          ]
        }
      ]
    },
    {
      "cell_type": "code",
      "source": [
        "print(l2, type(l2))"
      ],
      "metadata": {
        "colab": {
          "base_uri": "https://localhost:8080/"
        },
        "id": "sfbPBxCOAvLa",
        "outputId": "965aa451-4be7-4b11-e694-5902763b5ea5"
      },
      "execution_count": null,
      "outputs": [
        {
          "output_type": "stream",
          "name": "stdout",
          "text": [
            "['mango', 2, 2.5, 'values'] <class 'list'>\n"
          ]
        }
      ]
    },
    {
      "cell_type": "code",
      "source": [
        "l[2]=\"ll\""
      ],
      "metadata": {
        "id": "tq8usVQAAx0z"
      },
      "execution_count": null,
      "outputs": []
    },
    {
      "cell_type": "code",
      "source": [
        "print(l)\n",
        "# It is mutable"
      ],
      "metadata": {
        "colab": {
          "base_uri": "https://localhost:8080/"
        },
        "id": "1u-1ZPVqA63P",
        "outputId": "1997ba1f-43ca-4ffb-d61c-5e6ec7d1bb4f"
      },
      "execution_count": null,
      "outputs": [
        {
          "output_type": "stream",
          "name": "stdout",
          "text": [
            "['mango', 'banana', 'll']\n"
          ]
        }
      ]
    },
    {
      "cell_type": "code",
      "source": [
        "l = [1, 2, 3, 4, 5]\n",
        "l + l\n"
      ],
      "metadata": {
        "colab": {
          "base_uri": "https://localhost:8080/"
        },
        "id": "EEXqsZL0A8b2",
        "outputId": "4f957a50-eb50-48fb-da86-38cba05ba664"
      },
      "execution_count": null,
      "outputs": [
        {
          "output_type": "execute_result",
          "data": {
            "text/plain": [
              "[1, 2, 3, 4, 5, 1, 2, 3, 4, 5]"
            ]
          },
          "metadata": {},
          "execution_count": 43
        }
      ]
    },
    {
      "cell_type": "code",
      "source": [
        "l.extend(l)"
      ],
      "metadata": {
        "id": "aTVO9JnXBXQm"
      },
      "execution_count": null,
      "outputs": []
    },
    {
      "cell_type": "code",
      "source": [
        "print(l)"
      ],
      "metadata": {
        "colab": {
          "base_uri": "https://localhost:8080/"
        },
        "id": "Em6BTLtdBZBX",
        "outputId": "57147ea3-4686-4607-fc16-a65ed05b0cfb"
      },
      "execution_count": null,
      "outputs": [
        {
          "output_type": "stream",
          "name": "stdout",
          "text": [
            "[1, 2, 3, 4, 5, 1, 2, 3, 4, 5]\n"
          ]
        }
      ]
    },
    {
      "cell_type": "code",
      "source": [
        "l.append(l)"
      ],
      "metadata": {
        "id": "x1Ri3rZoBcCX"
      },
      "execution_count": null,
      "outputs": []
    },
    {
      "cell_type": "code",
      "source": [
        "print(l)"
      ],
      "metadata": {
        "colab": {
          "base_uri": "https://localhost:8080/"
        },
        "id": "gwYy8VYqCFvA",
        "outputId": "502f885a-a1b0-4e40-f1ca-2dcf1f90b1f2"
      },
      "execution_count": null,
      "outputs": [
        {
          "output_type": "stream",
          "name": "stdout",
          "text": [
            "[1, 2, 3, 4, 5, 1, 2, 3, 4, 5, [...]]\n"
          ]
        }
      ]
    },
    {
      "cell_type": "code",
      "source": [
        "lst  = [1,2,3]\n",
        "lst.insert(2, \"kk\")\n",
        "print(lst)"
      ],
      "metadata": {
        "colab": {
          "base_uri": "https://localhost:8080/"
        },
        "id": "kQL10Wi3CHYN",
        "outputId": "5cd4c278-5b54-4e88-ac15-176c77293824"
      },
      "execution_count": null,
      "outputs": [
        {
          "output_type": "stream",
          "name": "stdout",
          "text": [
            "[1, 2, 'kk', 3]\n"
          ]
        }
      ]
    },
    {
      "cell_type": "code",
      "source": [
        "lst.remove(2)"
      ],
      "metadata": {
        "id": "6P9Lt3qTGvai"
      },
      "execution_count": null,
      "outputs": []
    },
    {
      "cell_type": "code",
      "source": [
        "lst"
      ],
      "metadata": {
        "colab": {
          "base_uri": "https://localhost:8080/"
        },
        "id": "3ddRqjMEGyB1",
        "outputId": "8c0e06b6-7b1c-407c-8da7-84289d546b32"
      },
      "execution_count": null,
      "outputs": [
        {
          "output_type": "execute_result",
          "data": {
            "text/plain": [
              "[1, 'kk', 3]"
            ]
          },
          "metadata": {},
          "execution_count": 50
        }
      ]
    },
    {
      "cell_type": "code",
      "source": [
        "lst.pop()"
      ],
      "metadata": {
        "colab": {
          "base_uri": "https://localhost:8080/"
        },
        "id": "PtNtpaflGy6h",
        "outputId": "0487ee9a-37bd-4bd4-9f2c-9e9cce6733c6"
      },
      "execution_count": null,
      "outputs": [
        {
          "output_type": "execute_result",
          "data": {
            "text/plain": [
              "3"
            ]
          },
          "metadata": {},
          "execution_count": 51
        }
      ]
    },
    {
      "cell_type": "code",
      "source": [
        "lst"
      ],
      "metadata": {
        "colab": {
          "base_uri": "https://localhost:8080/"
        },
        "id": "3_yhsBJuG5YX",
        "outputId": "81e8c056-04b8-4b3f-dbb8-f1dd591377f9"
      },
      "execution_count": null,
      "outputs": [
        {
          "output_type": "execute_result",
          "data": {
            "text/plain": [
              "[1, 'kk']"
            ]
          },
          "metadata": {},
          "execution_count": 52
        }
      ]
    },
    {
      "cell_type": "code",
      "source": [
        "del lst[0]"
      ],
      "metadata": {
        "id": "LNmUUJ4xG6KB"
      },
      "execution_count": null,
      "outputs": []
    },
    {
      "cell_type": "code",
      "source": [
        "lst"
      ],
      "metadata": {
        "colab": {
          "base_uri": "https://localhost:8080/"
        },
        "id": "mMd1c432G-oK",
        "outputId": "ae04d657-2593-47ea-d7f2-53b0f64bddeb"
      },
      "execution_count": null,
      "outputs": [
        {
          "output_type": "execute_result",
          "data": {
            "text/plain": [
              "['kk']"
            ]
          },
          "metadata": {},
          "execution_count": 56
        }
      ]
    },
    {
      "cell_type": "code",
      "source": [
        "l"
      ],
      "metadata": {
        "colab": {
          "base_uri": "https://localhost:8080/"
        },
        "id": "v2drifvQHo_J",
        "outputId": "f219685d-e93c-4133-f7dc-68ecf896af15"
      },
      "execution_count": null,
      "outputs": [
        {
          "output_type": "execute_result",
          "data": {
            "text/plain": [
              "[2, 3, 4, 5, 1, 2, 3, 4, 5, [...]]"
            ]
          },
          "metadata": {},
          "execution_count": 57
        }
      ]
    },
    {
      "cell_type": "code",
      "source": [
        "lst.extend([\"pp\", \"qq\", 9,5])"
      ],
      "metadata": {
        "id": "lpxZ8M60HrhN"
      },
      "execution_count": null,
      "outputs": []
    },
    {
      "cell_type": "code",
      "source": [
        "lst"
      ],
      "metadata": {
        "colab": {
          "base_uri": "https://localhost:8080/"
        },
        "id": "_MzgaZZ0Ijot",
        "outputId": "215ea500-efd5-48c3-fde5-d0cef170b26d"
      },
      "execution_count": null,
      "outputs": [
        {
          "output_type": "execute_result",
          "data": {
            "text/plain": [
              "['kk', 'pp', 'qq', 9, 5]"
            ]
          },
          "metadata": {},
          "execution_count": 59
        }
      ]
    },
    {
      "cell_type": "code",
      "source": [
        "lst*3"
      ],
      "metadata": {
        "colab": {
          "base_uri": "https://localhost:8080/"
        },
        "id": "EqBHQqYBIlCe",
        "outputId": "0970e9eb-8aee-4968-e7cc-4dab8236e40e"
      },
      "execution_count": null,
      "outputs": [
        {
          "output_type": "execute_result",
          "data": {
            "text/plain": [
              "['kk', 'pp', 'qq', 9, 5, 'kk', 'pp', 'qq', 9, 5, 'kk', 'pp', 'qq', 9, 5]"
            ]
          },
          "metadata": {},
          "execution_count": 60
        }
      ]
    },
    {
      "cell_type": "code",
      "source": [
        "lst"
      ],
      "metadata": {
        "colab": {
          "base_uri": "https://localhost:8080/"
        },
        "id": "L4kG7Ej-IoZa",
        "outputId": "4e1f635c-abf3-4dd5-b0be-0385c6395ac5"
      },
      "execution_count": null,
      "outputs": [
        {
          "output_type": "execute_result",
          "data": {
            "text/plain": [
              "[5, 9, 'qq', 'pp', 'pp', 'qq', 9]"
            ]
          },
          "metadata": {},
          "execution_count": 81
        }
      ]
    },
    {
      "cell_type": "code",
      "source": [
        "lst.reverse()\n",
        "print(lst)"
      ],
      "metadata": {
        "colab": {
          "base_uri": "https://localhost:8080/"
        },
        "id": "QQjw8JGEIpSx",
        "outputId": "5c2134c3-5a6b-4bfa-f122-f35387085b45"
      },
      "execution_count": null,
      "outputs": [
        {
          "output_type": "stream",
          "name": "stdout",
          "text": [
            "[5, 9, 'qq', 'pp', 'pp', 'qq', 9]\n"
          ]
        }
      ]
    },
    {
      "cell_type": "code",
      "source": [
        " lst[::-1]"
      ],
      "metadata": {
        "colab": {
          "base_uri": "https://localhost:8080/"
        },
        "id": "_8rnTR2UIvDU",
        "outputId": "4ce80b22-358f-47b3-a830-3b3e0e3d33c5"
      },
      "execution_count": null,
      "outputs": [
        {
          "output_type": "execute_result",
          "data": {
            "text/plain": [
              "[9, 'qq', 'pp', 'pp', 'qq', 9, 5]"
            ]
          },
          "metadata": {},
          "execution_count": 82
        }
      ]
    },
    {
      "cell_type": "code",
      "source": [
        "del lst[0:1]\n",
        "lst"
      ],
      "metadata": {
        "colab": {
          "base_uri": "https://localhost:8080/"
        },
        "id": "KAj2QYZkJekG",
        "outputId": "2de8c377-08f2-4dd0-c89e-416f0e7f3d22"
      },
      "execution_count": null,
      "outputs": [
        {
          "output_type": "execute_result",
          "data": {
            "text/plain": [
              "['qq', 'pp', 'pp', 'qq', 9]"
            ]
          },
          "metadata": {},
          "execution_count": 86
        }
      ]
    },
    {
      "cell_type": "code",
      "source": [
        "lst.remove(9)"
      ],
      "metadata": {
        "id": "ssGRxMtUJm51"
      },
      "execution_count": null,
      "outputs": []
    },
    {
      "cell_type": "code",
      "source": [
        "lst"
      ],
      "metadata": {
        "colab": {
          "base_uri": "https://localhost:8080/"
        },
        "id": "ACCS_b0bKigE",
        "outputId": "8d4a3448-e91d-4fc2-c5b5-95aef647ac91"
      },
      "execution_count": null,
      "outputs": [
        {
          "output_type": "execute_result",
          "data": {
            "text/plain": [
              "['qq', 'pp', 'pp', 'qq']"
            ]
          },
          "metadata": {},
          "execution_count": 88
        }
      ]
    },
    {
      "cell_type": "code",
      "source": [
        "# sorted\n",
        "sorted(lst)"
      ],
      "metadata": {
        "colab": {
          "base_uri": "https://localhost:8080/"
        },
        "id": "WVTBkMf2LRA4",
        "outputId": "7db70c60-3309-454c-d057-2449fd5a52c6"
      },
      "execution_count": null,
      "outputs": [
        {
          "output_type": "execute_result",
          "data": {
            "text/plain": [
              "['pp', 'pp', 'qq', 'qq']"
            ]
          },
          "metadata": {},
          "execution_count": 89
        }
      ]
    },
    {
      "cell_type": "code",
      "source": [
        "num = [5,3,7,3,5,32,6,2,1,0,8,55,42,7,9,-9,4,-3,100,-4]\n",
        "sorted_list = sorted(num)\n",
        "print(sorted_list)"
      ],
      "metadata": {
        "colab": {
          "base_uri": "https://localhost:8080/"
        },
        "id": "-sFhA8RnLXEj",
        "outputId": "02c46057-d5af-483e-800a-133222627be1"
      },
      "execution_count": null,
      "outputs": [
        {
          "output_type": "stream",
          "name": "stdout",
          "text": [
            "[-9, -4, -3, 0, 1, 2, 3, 3, 4, 5, 5, 6, 7, 7, 8, 9, 32, 42, 55, 100]\n"
          ]
        }
      ]
    },
    {
      "cell_type": "code",
      "source": [
        "num.sort()\n",
        "num"
      ],
      "metadata": {
        "colab": {
          "base_uri": "https://localhost:8080/"
        },
        "id": "Qy_aWwmOM1bD",
        "outputId": "6097c15a-1754-46ad-ad5c-b932cd723449"
      },
      "execution_count": null,
      "outputs": [
        {
          "output_type": "execute_result",
          "data": {
            "text/plain": [
              "[-9, -4, -3, 0, 1, 2, 3, 3, 4, 5, 5, 6, 7, 7, 8, 9, 32, 42, 55, 100]"
            ]
          },
          "metadata": {},
          "execution_count": 92
        }
      ]
    },
    {
      "cell_type": "code",
      "source": [
        "lst = [1,2,3,4,5]\n",
        "abc = lst\n",
        "abc.append(6)\n",
        "\n",
        "print(lst)\n",
        "print(abc)\n"
      ],
      "metadata": {
        "colab": {
          "base_uri": "https://localhost:8080/"
        },
        "id": "V99hMk1XM9Gx",
        "outputId": "174848b7-dc0e-4f80-a995-942e9cd113f8"
      },
      "execution_count": null,
      "outputs": [
        {
          "output_type": "stream",
          "name": "stdout",
          "text": [
            "[1, 2, 3, 4, 5, 6]\n",
            "[1, 2, 3, 4, 5, 6]\n"
          ]
        }
      ]
    },
    {
      "cell_type": "code",
      "source": [
        "print(id(lst))\n",
        "print(id(abc))\n",
        "# pointing to same memory location"
      ],
      "metadata": {
        "colab": {
          "base_uri": "https://localhost:8080/"
        },
        "id": "2_-Q7WjKNbRF",
        "outputId": "99a2704b-708b-4f2f-e9b1-798c85a855a8"
      },
      "execution_count": null,
      "outputs": [
        {
          "output_type": "stream",
          "name": "stdout",
          "text": [
            "132605609064832\n",
            "132605609064832\n"
          ]
        }
      ]
    },
    {
      "cell_type": "markdown",
      "source": [
        "# Tuple"
      ],
      "metadata": {
        "id": "zA-JOTy4Nq1p"
      }
    },
    {
      "cell_type": "code",
      "source": [
        "t = (1,2,3,4,5)\n",
        "t"
      ],
      "metadata": {
        "colab": {
          "base_uri": "https://localhost:8080/"
        },
        "id": "NC4o-9GnNgod",
        "outputId": "53bde8b9-4975-44ab-fa47-807e599bf758"
      },
      "execution_count": null,
      "outputs": [
        {
          "output_type": "execute_result",
          "data": {
            "text/plain": [
              "(1, 2, 3, 4, 5)"
            ]
          },
          "metadata": {},
          "execution_count": 97
        }
      ]
    },
    {
      "cell_type": "code",
      "source": [
        "print(type(t))"
      ],
      "metadata": {
        "colab": {
          "base_uri": "https://localhost:8080/"
        },
        "id": "fY1dkNg_N22W",
        "outputId": "4523aec2-671b-436e-9789-18c37d83a37b"
      },
      "execution_count": null,
      "outputs": [
        {
          "output_type": "stream",
          "name": "stdout",
          "text": [
            "<class 'tuple'>\n"
          ]
        }
      ]
    },
    {
      "cell_type": "code",
      "source": [
        "t[2]=7"
      ],
      "metadata": {
        "colab": {
          "base_uri": "https://localhost:8080/",
          "height": 141
        },
        "id": "PDVu8bo9N8-W",
        "outputId": "3a9c8ed4-2ae7-4895-ded1-a38c1890116c"
      },
      "execution_count": null,
      "outputs": [
        {
          "output_type": "error",
          "ename": "TypeError",
          "evalue": "'tuple' object does not support item assignment",
          "traceback": [
            "\u001b[0;31m---------------------------------------------------------------------------\u001b[0m",
            "\u001b[0;31mTypeError\u001b[0m                                 Traceback (most recent call last)",
            "\u001b[0;32m<ipython-input-99-e579bde6e219>\u001b[0m in \u001b[0;36m<cell line: 1>\u001b[0;34m()\u001b[0m\n\u001b[0;32m----> 1\u001b[0;31m \u001b[0mt\u001b[0m\u001b[0;34m[\u001b[0m\u001b[0;36m2\u001b[0m\u001b[0;34m]\u001b[0m\u001b[0;34m=\u001b[0m\u001b[0;36m7\u001b[0m\u001b[0;34m\u001b[0m\u001b[0;34m\u001b[0m\u001b[0m\n\u001b[0m",
            "\u001b[0;31mTypeError\u001b[0m: 'tuple' object does not support item assignment"
          ]
        }
      ]
    },
    {
      "cell_type": "code",
      "source": [
        "t = (\"newlala\")\n",
        "print(t,type(t))"
      ],
      "metadata": {
        "colab": {
          "base_uri": "https://localhost:8080/"
        },
        "id": "cCo25jhQN_f_",
        "outputId": "35febe39-34c4-45df-d81b-383316740273"
      },
      "execution_count": null,
      "outputs": [
        {
          "output_type": "stream",
          "name": "stdout",
          "text": [
            "newlala <class 'str'>\n"
          ]
        }
      ]
    },
    {
      "cell_type": "code",
      "source": [
        "t = (\"newlala\",)\n",
        "print(t,type(t))"
      ],
      "metadata": {
        "colab": {
          "base_uri": "https://localhost:8080/"
        },
        "id": "CdwcYBmEOJTR",
        "outputId": "e4b9da7f-c831-4d6c-f3b6-985c2fe6b1ca"
      },
      "execution_count": null,
      "outputs": [
        {
          "output_type": "stream",
          "name": "stdout",
          "text": [
            "('newlala',) <class 'tuple'>\n"
          ]
        }
      ]
    },
    {
      "cell_type": "code",
      "source": [
        "t[0][-1]\n",
        "t[-1][-1]\n",
        "# this tuple is acutally a list"
      ],
      "metadata": {
        "colab": {
          "base_uri": "https://localhost:8080/",
          "height": 35
        },
        "id": "8JGyzE8JON6L",
        "outputId": "8e36e4e0-777e-45f5-c9b3-41545d324ddd"
      },
      "execution_count": null,
      "outputs": [
        {
          "output_type": "execute_result",
          "data": {
            "text/plain": [
              "'a'"
            ],
            "application/vnd.google.colaboratory.intrinsic+json": {
              "type": "string"
            }
          },
          "metadata": {},
          "execution_count": 103
        }
      ]
    },
    {
      "cell_type": "code",
      "source": [
        "# can define tuples in tuples\n",
        "tt = ('abc', 'xyz', 'zara', 'abc',(1,2,3,4))\n",
        "print(tt)"
      ],
      "metadata": {
        "colab": {
          "base_uri": "https://localhost:8080/"
        },
        "id": "ESnxEyThOX3J",
        "outputId": "ecd41567-d0e1-4356-8484-24efa61d431e"
      },
      "execution_count": null,
      "outputs": [
        {
          "output_type": "stream",
          "name": "stdout",
          "text": [
            "('abc', 'xyz', 'zara', 'abc', (1, 2, 3, 4))\n"
          ]
        }
      ]
    },
    {
      "cell_type": "code",
      "source": [
        "type(tt)"
      ],
      "metadata": {
        "colab": {
          "base_uri": "https://localhost:8080/"
        },
        "id": "dMmufJGzSzgQ",
        "outputId": "948c468d-9c59-4fdc-e935-192e43e146f5"
      },
      "execution_count": null,
      "outputs": [
        {
          "output_type": "execute_result",
          "data": {
            "text/plain": [
              "tuple"
            ]
          },
          "metadata": {},
          "execution_count": 106
        }
      ]
    },
    {
      "cell_type": "code",
      "source": [
        "del tt"
      ],
      "metadata": {
        "id": "eOpRb_cLS9wc"
      },
      "execution_count": null,
      "outputs": []
    },
    {
      "cell_type": "code",
      "source": [
        "tt"
      ],
      "metadata": {
        "colab": {
          "base_uri": "https://localhost:8080/",
          "height": 141
        },
        "id": "qtXkZAdHS_mI",
        "outputId": "46d90f05-d7e7-459f-9d77-2e32a0f54a4d"
      },
      "execution_count": null,
      "outputs": [
        {
          "output_type": "error",
          "ename": "NameError",
          "evalue": "name 'tt' is not defined",
          "traceback": [
            "\u001b[0;31m---------------------------------------------------------------------------\u001b[0m",
            "\u001b[0;31mNameError\u001b[0m                                 Traceback (most recent call last)",
            "\u001b[0;32m<ipython-input-108-063a0d60263f>\u001b[0m in \u001b[0;36m<cell line: 1>\u001b[0;34m()\u001b[0m\n\u001b[0;32m----> 1\u001b[0;31m \u001b[0mtt\u001b[0m\u001b[0;34m\u001b[0m\u001b[0;34m\u001b[0m\u001b[0m\n\u001b[0m",
            "\u001b[0;31mNameError\u001b[0m: name 'tt' is not defined"
          ]
        }
      ]
    },
    {
      "cell_type": "code",
      "source": [
        "tt = (1,2,3,4,1,2,4,2,3,1,6,5,87,6,8,9,2,1)"
      ],
      "metadata": {
        "id": "qPICbO1rTBRO"
      },
      "execution_count": null,
      "outputs": []
    },
    {
      "cell_type": "code",
      "source": [
        "tt.count(1)"
      ],
      "metadata": {
        "colab": {
          "base_uri": "https://localhost:8080/"
        },
        "id": "RE5ahZa6W_GO",
        "outputId": "7341d9fb-a7b6-4f9d-d638-62557e849ce9"
      },
      "execution_count": null,
      "outputs": [
        {
          "output_type": "execute_result",
          "data": {
            "text/plain": [
              "4"
            ]
          },
          "metadata": {},
          "execution_count": 111
        }
      ]
    },
    {
      "cell_type": "code",
      "source": [
        "tt.index(3)"
      ],
      "metadata": {
        "colab": {
          "base_uri": "https://localhost:8080/"
        },
        "id": "sarHVq_nXCjD",
        "outputId": "d0d0ff97-6844-450c-eecb-63827eddf1b5"
      },
      "execution_count": null,
      "outputs": [
        {
          "output_type": "execute_result",
          "data": {
            "text/plain": [
              "2"
            ]
          },
          "metadata": {},
          "execution_count": 112
        }
      ]
    },
    {
      "cell_type": "code",
      "source": [
        "print(10 in tt)"
      ],
      "metadata": {
        "colab": {
          "base_uri": "https://localhost:8080/"
        },
        "id": "bGxS90SRXOdp",
        "outputId": "39ec34b0-7d4b-4e01-bef3-06a412fe892d"
      },
      "execution_count": null,
      "outputs": [
        {
          "output_type": "stream",
          "name": "stdout",
          "text": [
            "False\n"
          ]
        }
      ]
    },
    {
      "cell_type": "code",
      "source": [
        "sum(tt)"
      ],
      "metadata": {
        "colab": {
          "base_uri": "https://localhost:8080/"
        },
        "id": "r5IaROYTXTow",
        "outputId": "fb4d25ca-8737-44be-c765-d9bb67c2f8a1"
      },
      "execution_count": null,
      "outputs": [
        {
          "output_type": "execute_result",
          "data": {
            "text/plain": [
              "147"
            ]
          },
          "metadata": {},
          "execution_count": 114
        }
      ]
    },
    {
      "cell_type": "code",
      "source": [
        "type(tt)"
      ],
      "metadata": {
        "colab": {
          "base_uri": "https://localhost:8080/"
        },
        "id": "iIMF9Fq8XWnm",
        "outputId": "d54f7075-c229-46f3-80de-95821d288bb7"
      },
      "execution_count": null,
      "outputs": [
        {
          "output_type": "execute_result",
          "data": {
            "text/plain": [
              "tuple"
            ]
          },
          "metadata": {},
          "execution_count": 115
        }
      ]
    },
    {
      "cell_type": "code",
      "source": [
        "ttt = sorted (tt)"
      ],
      "metadata": {
        "id": "-cWgsIiBXgEm"
      },
      "execution_count": null,
      "outputs": []
    },
    {
      "cell_type": "code",
      "source": [
        "ttt"
      ],
      "metadata": {
        "colab": {
          "base_uri": "https://localhost:8080/"
        },
        "id": "mK5x1UDOXowT",
        "outputId": "87f76b68-6f98-4be0-c39d-8243bbd40e68"
      },
      "execution_count": null,
      "outputs": [
        {
          "output_type": "execute_result",
          "data": {
            "text/plain": [
              "[1, 1, 1, 1, 2, 2, 2, 2, 3, 3, 4, 4, 5, 6, 6, 8, 9, 87]"
            ]
          },
          "metadata": {},
          "execution_count": 117
        }
      ]
    },
    {
      "cell_type": "markdown",
      "source": [
        "# set"
      ],
      "metadata": {
        "id": "8q1X09dxYcPN"
      }
    },
    {
      "cell_type": "code",
      "source": [
        "# unordered collection of items, unique elements, mutable"
      ],
      "metadata": {
        "id": "fly0uulTXqUe"
      },
      "execution_count": null,
      "outputs": []
    },
    {
      "cell_type": "code",
      "source": [
        "s = {1,2,3,4,5}"
      ],
      "metadata": {
        "id": "eGdBgVRiYm9F"
      },
      "execution_count": null,
      "outputs": []
    },
    {
      "cell_type": "code",
      "source": [
        "print(s, type(s))"
      ],
      "metadata": {
        "colab": {
          "base_uri": "https://localhost:8080/"
        },
        "id": "BBVVfTRgYqWi",
        "outputId": "a20a4262-c48c-4ff2-bedf-6ac4f7ff1b43"
      },
      "execution_count": null,
      "outputs": [
        {
          "output_type": "stream",
          "name": "stdout",
          "text": [
            "{1, 2, 3, 4, 5} <class 'set'>\n"
          ]
        }
      ]
    },
    {
      "cell_type": "code",
      "source": [
        "a = set([1,2,3])\n",
        "a"
      ],
      "metadata": {
        "colab": {
          "base_uri": "https://localhost:8080/"
        },
        "id": "8sX8ho7rYt9D",
        "outputId": "0fb0e2bc-0b0b-4a34-d929-121d30761404"
      },
      "execution_count": null,
      "outputs": [
        {
          "output_type": "execute_result",
          "data": {
            "text/plain": [
              "{1, 2, 3}"
            ]
          },
          "metadata": {},
          "execution_count": 121
        }
      ]
    },
    {
      "cell_type": "code",
      "source": [
        "a.add(4)"
      ],
      "metadata": {
        "id": "4OEqEcILZGx8"
      },
      "execution_count": null,
      "outputs": []
    },
    {
      "cell_type": "code",
      "source": [
        "a"
      ],
      "metadata": {
        "colab": {
          "base_uri": "https://localhost:8080/"
        },
        "id": "NfWg_ktzZKZT",
        "outputId": "8cf1eb7a-d3f9-4d97-b09b-48c13e2af746"
      },
      "execution_count": null,
      "outputs": [
        {
          "output_type": "execute_result",
          "data": {
            "text/plain": [
              "{1, 2, 3, 4}"
            ]
          },
          "metadata": {},
          "execution_count": 123
        }
      ]
    },
    {
      "cell_type": "code",
      "source": [
        "a[0]"
      ],
      "metadata": {
        "colab": {
          "base_uri": "https://localhost:8080/",
          "height": 141
        },
        "id": "HAqkUguUZLP_",
        "outputId": "ea96e050-db1c-4e7f-cadc-4bcdde51ddbb"
      },
      "execution_count": null,
      "outputs": [
        {
          "output_type": "error",
          "ename": "TypeError",
          "evalue": "'set' object is not subscriptable",
          "traceback": [
            "\u001b[0;31m---------------------------------------------------------------------------\u001b[0m",
            "\u001b[0;31mTypeError\u001b[0m                                 Traceback (most recent call last)",
            "\u001b[0;32m<ipython-input-124-6a1284577a36>\u001b[0m in \u001b[0;36m<cell line: 1>\u001b[0;34m()\u001b[0m\n\u001b[0;32m----> 1\u001b[0;31m \u001b[0ma\u001b[0m\u001b[0;34m[\u001b[0m\u001b[0;36m0\u001b[0m\u001b[0;34m]\u001b[0m\u001b[0;34m\u001b[0m\u001b[0;34m\u001b[0m\u001b[0m\n\u001b[0m",
            "\u001b[0;31mTypeError\u001b[0m: 'set' object is not subscriptable"
          ]
        }
      ]
    },
    {
      "cell_type": "code",
      "source": [
        "a.add(5)"
      ],
      "metadata": {
        "id": "iaAtCRdwZM59"
      },
      "execution_count": null,
      "outputs": []
    },
    {
      "cell_type": "code",
      "source": [
        "a"
      ],
      "metadata": {
        "colab": {
          "base_uri": "https://localhost:8080/"
        },
        "id": "VxAS49bfZVFR",
        "outputId": "d8f08c33-30b6-4322-eda1-c26199e7b5e3"
      },
      "execution_count": null,
      "outputs": [
        {
          "output_type": "execute_result",
          "data": {
            "text/plain": [
              "{1, 2, 3, 4, 5}"
            ]
          },
          "metadata": {},
          "execution_count": 130
        }
      ]
    },
    {
      "cell_type": "code",
      "source": [
        "a.add(4)\n",
        "a"
      ],
      "metadata": {
        "colab": {
          "base_uri": "https://localhost:8080/"
        },
        "id": "q__pvrp8aL1O",
        "outputId": "f1b74e32-a0eb-4047-c26f-955a9a348428"
      },
      "execution_count": null,
      "outputs": [
        {
          "output_type": "execute_result",
          "data": {
            "text/plain": [
              "{1, 2, 3, 4, 5}"
            ]
          },
          "metadata": {},
          "execution_count": 131
        }
      ]
    },
    {
      "cell_type": "code",
      "source": [
        "a[0]"
      ],
      "metadata": {
        "colab": {
          "base_uri": "https://localhost:8080/",
          "height": 141
        },
        "id": "ZCzhRuYAaOP5",
        "outputId": "8c4e049e-9ca8-4ed3-9aeb-0b112416a7d6"
      },
      "execution_count": null,
      "outputs": [
        {
          "output_type": "error",
          "ename": "TypeError",
          "evalue": "'set' object is not subscriptable",
          "traceback": [
            "\u001b[0;31m---------------------------------------------------------------------------\u001b[0m",
            "\u001b[0;31mTypeError\u001b[0m                                 Traceback (most recent call last)",
            "\u001b[0;32m<ipython-input-132-6a1284577a36>\u001b[0m in \u001b[0;36m<cell line: 1>\u001b[0;34m()\u001b[0m\n\u001b[0;32m----> 1\u001b[0;31m \u001b[0ma\u001b[0m\u001b[0;34m[\u001b[0m\u001b[0;36m0\u001b[0m\u001b[0;34m]\u001b[0m\u001b[0;34m\u001b[0m\u001b[0;34m\u001b[0m\u001b[0m\n\u001b[0m",
            "\u001b[0;31mTypeError\u001b[0m: 'set' object is not subscriptable"
          ]
        }
      ]
    },
    {
      "cell_type": "code",
      "source": [
        "a.update([6,4,2,7,9,5])\n",
        "a"
      ],
      "metadata": {
        "colab": {
          "base_uri": "https://localhost:8080/"
        },
        "id": "YzdJEw1zaSdh",
        "outputId": "a6f7e4c1-73ea-460b-bfae-3de571af6847"
      },
      "execution_count": null,
      "outputs": [
        {
          "output_type": "execute_result",
          "data": {
            "text/plain": [
              "{1, 2, 3, 4, 5, 6, 7, 9}"
            ]
          },
          "metadata": {},
          "execution_count": 133
        }
      ]
    },
    {
      "cell_type": "code",
      "source": [
        "a.add(8)"
      ],
      "metadata": {
        "id": "XRtijjLKagih"
      },
      "execution_count": null,
      "outputs": []
    },
    {
      "cell_type": "code",
      "source": [
        "a"
      ],
      "metadata": {
        "colab": {
          "base_uri": "https://localhost:8080/"
        },
        "id": "NqrHA0-MamH6",
        "outputId": "f74716d5-a2b5-4ad6-dc8e-7870bea6dfdb"
      },
      "execution_count": null,
      "outputs": [
        {
          "output_type": "execute_result",
          "data": {
            "text/plain": [
              "{1, 2, 3, 4, 5, 6, 7, 8, 9}"
            ]
          },
          "metadata": {},
          "execution_count": 135
        }
      ]
    },
    {
      "cell_type": "code",
      "source": [
        "a.remove(2)"
      ],
      "metadata": {
        "id": "5BxZyRmuamsX"
      },
      "execution_count": null,
      "outputs": []
    },
    {
      "cell_type": "code",
      "source": [
        "a"
      ],
      "metadata": {
        "colab": {
          "base_uri": "https://localhost:8080/"
        },
        "id": "1d8ZDoYYbClf",
        "outputId": "b70fd1d1-c30c-4405-f0ad-b5fbbc8b4751"
      },
      "execution_count": null,
      "outputs": [
        {
          "output_type": "execute_result",
          "data": {
            "text/plain": [
              "{1, 3, 4, 5, 6, 7, 8, 9}"
            ]
          },
          "metadata": {},
          "execution_count": 137
        }
      ]
    },
    {
      "cell_type": "code",
      "source": [
        "a.pop()"
      ],
      "metadata": {
        "colab": {
          "base_uri": "https://localhost:8080/"
        },
        "id": "3hVNgQ6sbGEy",
        "outputId": "99a5b9d6-34b2-4d5c-8540-09043cc61e70"
      },
      "execution_count": null,
      "outputs": [
        {
          "output_type": "execute_result",
          "data": {
            "text/plain": [
              "1"
            ]
          },
          "metadata": {},
          "execution_count": 138
        }
      ]
    },
    {
      "cell_type": "code",
      "source": [
        "a"
      ],
      "metadata": {
        "colab": {
          "base_uri": "https://localhost:8080/"
        },
        "id": "2eJJNfmObKMa",
        "outputId": "49a61f62-ec86-48de-c28e-ff67d4ba24e2"
      },
      "execution_count": null,
      "outputs": [
        {
          "output_type": "execute_result",
          "data": {
            "text/plain": [
              "{3, 4, 5, 6, 7, 8, 9}"
            ]
          },
          "metadata": {},
          "execution_count": 139
        }
      ]
    },
    {
      "cell_type": "code",
      "source": [
        "a.pop()"
      ],
      "metadata": {
        "colab": {
          "base_uri": "https://localhost:8080/"
        },
        "id": "Zg_3hmOIbOLz",
        "outputId": "3d37280b-c696-4b4e-af21-750fe21238da"
      },
      "execution_count": null,
      "outputs": [
        {
          "output_type": "execute_result",
          "data": {
            "text/plain": [
              "3"
            ]
          },
          "metadata": {},
          "execution_count": 140
        }
      ]
    },
    {
      "cell_type": "code",
      "source": [
        "a"
      ],
      "metadata": {
        "colab": {
          "base_uri": "https://localhost:8080/"
        },
        "id": "6JKYEOaqbPui",
        "outputId": "47b409a2-d070-4d3f-d3af-b2ceec25b247"
      },
      "execution_count": null,
      "outputs": [
        {
          "output_type": "execute_result",
          "data": {
            "text/plain": [
              "{4, 5, 6, 7, 8, 9}"
            ]
          },
          "metadata": {},
          "execution_count": 141
        }
      ]
    },
    {
      "cell_type": "code",
      "source": [
        "a.remove(7)"
      ],
      "metadata": {
        "id": "Gdua3DgHbSDq"
      },
      "execution_count": null,
      "outputs": []
    },
    {
      "cell_type": "code",
      "source": [
        "a.pop()"
      ],
      "metadata": {
        "colab": {
          "base_uri": "https://localhost:8080/"
        },
        "id": "mXdUQSkObV5j",
        "outputId": "6f8eff96-a935-4e94-d575-8eed921a5c64"
      },
      "execution_count": null,
      "outputs": [
        {
          "output_type": "execute_result",
          "data": {
            "text/plain": [
              "4"
            ]
          },
          "metadata": {},
          "execution_count": 143
        }
      ]
    },
    {
      "cell_type": "code",
      "source": [
        "a"
      ],
      "metadata": {
        "colab": {
          "base_uri": "https://localhost:8080/"
        },
        "id": "C-dApDP3bX6A",
        "outputId": "89f90e31-98b0-4df7-bcf6-86eaf41518a3"
      },
      "execution_count": null,
      "outputs": [
        {
          "output_type": "execute_result",
          "data": {
            "text/plain": [
              "{5, 6, 8, 9}"
            ]
          },
          "metadata": {},
          "execution_count": 144
        }
      ]
    },
    {
      "cell_type": "code",
      "source": [
        "a.clear()"
      ],
      "metadata": {
        "id": "sxhwgp7kbZhY"
      },
      "execution_count": null,
      "outputs": []
    },
    {
      "cell_type": "code",
      "source": [
        "a"
      ],
      "metadata": {
        "colab": {
          "base_uri": "https://localhost:8080/"
        },
        "id": "Ue7KztCqbdsq",
        "outputId": "0da407b8-f946-4ab8-db77-8edf75ea17da"
      },
      "execution_count": null,
      "outputs": [
        {
          "output_type": "execute_result",
          "data": {
            "text/plain": [
              "set()"
            ]
          },
          "metadata": {},
          "execution_count": 146
        }
      ]
    },
    {
      "cell_type": "markdown",
      "source": [
        "## set operations"
      ],
      "metadata": {
        "id": "vh1KLFVWcynp"
      }
    },
    {
      "cell_type": "code",
      "source": [
        "set1 = {1,2,3,4,5,6}\n",
        "set2 = {4,5,6,7,8,9}"
      ],
      "metadata": {
        "id": "zER17TndbePR"
      },
      "execution_count": null,
      "outputs": []
    },
    {
      "cell_type": "code",
      "source": [
        "print(set1 | set2)\n",
        "print(set1.union(set2))\n",
        "print(set1)\n",
        "# set1.update(set2)\n",
        "print(set1-set2)\n",
        "# set1.update(set1-set2) this is for addition and it is already added; so nothing will get removed\n",
        "set1"
      ],
      "metadata": {
        "colab": {
          "base_uri": "https://localhost:8080/"
        },
        "id": "jmdcBsxLdDdO",
        "outputId": "97e85442-29be-4c1a-f260-07b33bdeb19f"
      },
      "execution_count": null,
      "outputs": [
        {
          "output_type": "stream",
          "name": "stdout",
          "text": [
            "{1, 2, 3, 4, 5, 6, 7, 8, 9}\n",
            "{1, 2, 3, 4, 5, 6, 7, 8, 9}\n",
            "{1, 2, 3, 4, 5, 6}\n",
            "{1, 2, 3}\n"
          ]
        },
        {
          "output_type": "execute_result",
          "data": {
            "text/plain": [
              "{1, 2, 3, 4, 5, 6}"
            ]
          },
          "metadata": {},
          "execution_count": 165
        }
      ]
    },
    {
      "cell_type": "code",
      "source": [
        "print(set1 & set2)"
      ],
      "metadata": {
        "colab": {
          "base_uri": "https://localhost:8080/"
        },
        "id": "-S0PnCDjdFWI",
        "outputId": "7a6e3873-69d6-4318-bd50-7c4e5f5727e4"
      },
      "execution_count": null,
      "outputs": [
        {
          "output_type": "stream",
          "name": "stdout",
          "text": [
            "{4, 5, 6}\n"
          ]
        }
      ]
    },
    {
      "cell_type": "code",
      "source": [
        "print(set1.intersection(set2))"
      ],
      "metadata": {
        "colab": {
          "base_uri": "https://localhost:8080/"
        },
        "id": "JMb0gQR8dHnf",
        "outputId": "0775c60b-94bc-428c-e533-e9671c5ba900"
      },
      "execution_count": null,
      "outputs": [
        {
          "output_type": "stream",
          "name": "stdout",
          "text": [
            "{4, 5, 6}\n"
          ]
        }
      ]
    },
    {
      "cell_type": "code",
      "source": [
        "print(set1 - set2)"
      ],
      "metadata": {
        "colab": {
          "base_uri": "https://localhost:8080/"
        },
        "id": "g3v6zJqXek4j",
        "outputId": "68b10f39-0060-40ff-b9c2-02722ba7a72c"
      },
      "execution_count": null,
      "outputs": [
        {
          "output_type": "stream",
          "name": "stdout",
          "text": [
            "{1, 2, 3}\n"
          ]
        }
      ]
    },
    {
      "cell_type": "code",
      "source": [
        "print(set1 ^ set2)"
      ],
      "metadata": {
        "colab": {
          "base_uri": "https://localhost:8080/"
        },
        "id": "RtezXN3jepH_",
        "outputId": "adf17817-ae88-4adb-b067-cddd6f4e9347"
      },
      "execution_count": null,
      "outputs": [
        {
          "output_type": "stream",
          "name": "stdout",
          "text": [
            "{1, 2, 3, 7, 8, 9}\n"
          ]
        }
      ]
    },
    {
      "cell_type": "code",
      "source": [
        "set1.issubset(set2)"
      ],
      "metadata": {
        "colab": {
          "base_uri": "https://localhost:8080/"
        },
        "id": "BHZ4KrAZessN",
        "outputId": "31b96991-ede1-43ff-a7a3-ba2a5b3d5129"
      },
      "execution_count": null,
      "outputs": [
        {
          "output_type": "execute_result",
          "data": {
            "text/plain": [
              "False"
            ]
          },
          "metadata": {},
          "execution_count": 170
        }
      ]
    },
    {
      "cell_type": "code",
      "source": [
        "t = (1,6,2,3,4,5)\n",
        "print(sorted(t), type(t)) # this is a grnerator ; sorts differently\n",
        "# t.sort() # this is a method # but not supported for tuples?"
      ],
      "metadata": {
        "colab": {
          "base_uri": "https://localhost:8080/"
        },
        "id": "IjAOUaZ4hHFL",
        "outputId": "31e57e79-2f50-4845-8eca-397096848d68"
      },
      "execution_count": null,
      "outputs": [
        {
          "output_type": "stream",
          "name": "stdout",
          "text": [
            "[1, 2, 3, 4, 5, 6] <class 'tuple'>\n"
          ]
        }
      ]
    },
    {
      "cell_type": "markdown",
      "source": [
        "#Dictionaries\n"
      ],
      "metadata": {
        "id": "mTKdhMDwgo8d"
      }
    },
    {
      "cell_type": "code",
      "source": [
        "# hashmaps - c++, java\n",
        "# JSON - javascript\n",
        "# dictionaries - python - key value pairs"
      ],
      "metadata": {
        "id": "_RatVD6Ke66F"
      },
      "execution_count": null,
      "outputs": []
    },
    {
      "cell_type": "code",
      "source": [
        "dictionary = {\"name\":\"jj\", \"age\":21}"
      ],
      "metadata": {
        "id": "3pQwniNPhziM"
      },
      "execution_count": null,
      "outputs": []
    },
    {
      "cell_type": "code",
      "source": [
        "dictionary"
      ],
      "metadata": {
        "colab": {
          "base_uri": "https://localhost:8080/"
        },
        "id": "J7QAIbN2h11f",
        "outputId": "63eba506-7278-427a-b988-f9a9496d53d0"
      },
      "execution_count": null,
      "outputs": [
        {
          "output_type": "execute_result",
          "data": {
            "text/plain": [
              "{'name': 'jj', 'age': 21}"
            ]
          },
          "metadata": {},
          "execution_count": 186
        }
      ]
    },
    {
      "cell_type": "code",
      "source": [
        "type(dictionary)"
      ],
      "metadata": {
        "colab": {
          "base_uri": "https://localhost:8080/"
        },
        "id": "IApWx_iviVKa",
        "outputId": "3762619f-d5ce-4516-b447-d0a9698efef0"
      },
      "execution_count": null,
      "outputs": [
        {
          "output_type": "execute_result",
          "data": {
            "text/plain": [
              "dict"
            ]
          },
          "metadata": {},
          "execution_count": 179
        }
      ]
    },
    {
      "cell_type": "code",
      "source": [
        "set1 = {1,2,3,4,5,6}\n",
        "set2 = set()"
      ],
      "metadata": {
        "id": "O5ajn4gOiXPC"
      },
      "execution_count": null,
      "outputs": []
    },
    {
      "cell_type": "code",
      "source": [
        "dictt = {}\n",
        "print(type(set1), type(set2), type(dictt))"
      ],
      "metadata": {
        "colab": {
          "base_uri": "https://localhost:8080/"
        },
        "id": "f4q1BhHviruN",
        "outputId": "65506fa2-27e3-4db7-e483-6d0e9164cc7e"
      },
      "execution_count": null,
      "outputs": [
        {
          "output_type": "stream",
          "name": "stdout",
          "text": [
            "<class 'set'> <class 'set'> <class 'dict'>\n"
          ]
        }
      ]
    },
    {
      "cell_type": "code",
      "source": [
        "# dictionary ['key']\n",
        "print(dictionary['name'])"
      ],
      "metadata": {
        "colab": {
          "base_uri": "https://localhost:8080/"
        },
        "id": "bD77dUzVkphe",
        "outputId": "270b74e7-dd7c-4ec4-a263-d477fb4e0c39"
      },
      "execution_count": null,
      "outputs": [
        {
          "output_type": "stream",
          "name": "stdout",
          "text": [
            "jj\n"
          ]
        }
      ]
    },
    {
      "cell_type": "code",
      "source": [
        "dictionary.popitem()"
      ],
      "metadata": {
        "colab": {
          "base_uri": "https://localhost:8080/"
        },
        "id": "4xuReqtTkyT1",
        "outputId": "a5bbfefb-64ef-4737-ecb4-bf24b3f3e90c"
      },
      "execution_count": null,
      "outputs": [
        {
          "output_type": "execute_result",
          "data": {
            "text/plain": [
              "('age', 21)"
            ]
          },
          "metadata": {},
          "execution_count": 184
        }
      ]
    },
    {
      "cell_type": "code",
      "source": [
        "dictionary['city'] = \"Delhi\""
      ],
      "metadata": {
        "id": "a1UdDOsLlQX_"
      },
      "execution_count": null,
      "outputs": []
    },
    {
      "cell_type": "code",
      "source": [
        "dictionary"
      ],
      "metadata": {
        "colab": {
          "base_uri": "https://localhost:8080/"
        },
        "id": "SyhQmItXla7i",
        "outputId": "48c5d8f3-2e5a-4c17-8b58-7052a6dbd680"
      },
      "execution_count": null,
      "outputs": [
        {
          "output_type": "execute_result",
          "data": {
            "text/plain": [
              "{'name': 'jj', 'age': 21, 'city': 'Delhi'}"
            ]
          },
          "metadata": {},
          "execution_count": 189
        }
      ]
    },
    {
      "cell_type": "code",
      "source": [
        "del dictionary['age']"
      ],
      "metadata": {
        "id": "NKAt6bxSlcDp"
      },
      "execution_count": null,
      "outputs": []
    },
    {
      "cell_type": "code",
      "source": [
        "dictionary\n"
      ],
      "metadata": {
        "colab": {
          "base_uri": "https://localhost:8080/"
        },
        "id": "wClyzX9ZlgIW",
        "outputId": "6d6f0914-19b0-43b2-cd3a-1f00b1aedfb6"
      },
      "execution_count": null,
      "outputs": [
        {
          "output_type": "execute_result",
          "data": {
            "text/plain": [
              "{'name': 'jj', 'city': 'Delhi'}"
            ]
          },
          "metadata": {},
          "execution_count": 191
        }
      ]
    },
    {
      "cell_type": "code",
      "source": [
        "# methods :- keys(); values(); items()"
      ],
      "metadata": {
        "id": "L_hcpfZxlhWA"
      },
      "execution_count": null,
      "outputs": []
    },
    {
      "cell_type": "code",
      "source": [
        "for k,v in dictionary.items():\n",
        "  print(\"key is {} and value is {}\".format(k,v))"
      ],
      "metadata": {
        "colab": {
          "base_uri": "https://localhost:8080/"
        },
        "id": "P52hbWgOmfre",
        "outputId": "b838fa7a-27cf-412b-c040-c4814a89520f"
      },
      "execution_count": null,
      "outputs": [
        {
          "output_type": "stream",
          "name": "stdout",
          "text": [
            "key is name and value is jj\n",
            "key is city and value is Delhi\n"
          ]
        }
      ]
    },
    {
      "cell_type": "markdown",
      "source": [
        "# Advance Concepts Python\n",
        "\n",
        "- Classes and Objects (OOPS)\n",
        "- Exception Handling"
      ],
      "metadata": {
        "id": "d2y-OGMOpbqn"
      }
    },
    {
      "cell_type": "code",
      "source": [
        "class Student:\n",
        "  pass\n",
        "\n",
        "p = Student()\n",
        "print(p)"
      ],
      "metadata": {
        "id": "JTpBH0OkmwDD",
        "colab": {
          "base_uri": "https://localhost:8080/"
        },
        "outputId": "f7785779-f821-40d0-bf74-6a99fd6928e1"
      },
      "execution_count": null,
      "outputs": [
        {
          "output_type": "stream",
          "name": "stdout",
          "text": [
            "<__main__.Student object at 0x7cddbe1c1840>\n"
          ]
        }
      ]
    },
    {
      "cell_type": "code",
      "source": [
        "class Student:\n",
        "  def sayHello(self):\n",
        "    print(\"Hello\")\n",
        "\n",
        "p = Student()\n",
        "# print(p.sayHello())"
      ],
      "metadata": {
        "id": "6Ij26_aoQ0cb"
      },
      "execution_count": null,
      "outputs": []
    },
    {
      "cell_type": "code",
      "source": [
        "p = Student().sayHello()\n",
        "print(p)\n",
        "print(type(p))"
      ],
      "metadata": {
        "colab": {
          "base_uri": "https://localhost:8080/"
        },
        "id": "ki-av4JJRemr",
        "outputId": "c088366c-9ce6-4091-c8c7-e3764c8ac1ec"
      },
      "execution_count": null,
      "outputs": [
        {
          "output_type": "stream",
          "name": "stdout",
          "text": [
            "Hello\n",
            "None\n",
            "<class 'NoneType'>\n"
          ]
        }
      ]
    },
    {
      "cell_type": "code",
      "source": [
        "class Student:\n",
        "\n",
        "  def __init__(self, name=\"haha\"):\n",
        "    self.name = name\n",
        "\n",
        "  def sayHello(self):\n",
        "    print(\"Hello\", self.name)\n",
        "    return \"o\"\n",
        "\n",
        "p = Student(\"hoho\").sayHello()\n",
        "print(p)"
      ],
      "metadata": {
        "colab": {
          "base_uri": "https://localhost:8080/"
        },
        "id": "aUqZ-vLORvZI",
        "outputId": "5f2849dc-06a1-4f3e-e3d6-a89ede6ef0ed"
      },
      "execution_count": null,
      "outputs": [
        {
          "output_type": "stream",
          "name": "stdout",
          "text": [
            "Hello hoho\n",
            "o\n"
          ]
        }
      ]
    },
    {
      "cell_type": "code",
      "source": [
        "class Person():\n",
        "  number = 0\n",
        "\n",
        "  def __init__(self, name):\n",
        "\n",
        "    # Initializing some data\n",
        "    self.name = name\n",
        "    print(\"Initializing {}\".format(self.name))\n",
        "    Person.number += 1\n",
        "\n",
        "# there is no such direct concept of it.\n",
        "  def destruct(self):\n",
        "    print(\"Destructing {}\".format(self.name))\n",
        "    Person.number -= 1\n",
        "\n",
        "  def sayHello(self):\n",
        "    # greet\n",
        "    print(\"Hello\", self.name)\n",
        "\n",
        "\n",
        "  # decorators are functions that are assigned over other functions\n",
        "  # def how_many(cls): # the keyword \"cls\" will take the current class object\n",
        "  #   print(\"number of persons: {}\".format(cls.number))\n",
        "\n",
        "  @classmethod\n",
        "  # decorators are functions that are assigned over other functions\n",
        "  def how_many(self): # the keyword \"cls\" will take the current class object\n",
        "    print(\"number of persons: {}\".format(self.number))"
      ],
      "metadata": {
        "id": "kwqkNT7FSI2M"
      },
      "execution_count": null,
      "outputs": []
    },
    {
      "cell_type": "code",
      "source": [
        "person1 = Person(\"Raja\")\n",
        "person1.sayHello()\n",
        "Person.how_many()\n",
        "\n",
        "person2 = Person(\"ji\")\n",
        "person2.sayHello()\n",
        "Person.how_many()\n",
        "\n"
      ],
      "metadata": {
        "colab": {
          "base_uri": "https://localhost:8080/"
        },
        "id": "RNVjI3YKcUx5",
        "outputId": "d926c4ab-58e4-4bd9-c183-40921b4431d3"
      },
      "execution_count": null,
      "outputs": [
        {
          "output_type": "stream",
          "name": "stdout",
          "text": [
            "Initializing Raja\n",
            "Hello Raja\n",
            "number of persons: 1\n",
            "Initializing ji\n",
            "Hello ji\n",
            "number of persons: 2\n"
          ]
        }
      ]
    },
    {
      "cell_type": "code",
      "source": [
        "person1.destruct()\n",
        "person2.destruct()\n",
        "\n",
        "Person.how_many()"
      ],
      "metadata": {
        "colab": {
          "base_uri": "https://localhost:8080/"
        },
        "id": "XT6ouWf65tG2",
        "outputId": "8974c9d8-9d2a-428a-a879-cb2bb724e360"
      },
      "execution_count": null,
      "outputs": [
        {
          "output_type": "stream",
          "name": "stdout",
          "text": [
            "Destructing Raja\n",
            "Destructing ji\n",
            "number of persons: 0\n"
          ]
        }
      ]
    },
    {
      "cell_type": "markdown",
      "source": [
        "# Exception handling"
      ],
      "metadata": {
        "id": "vhVSXeSv6D_I"
      }
    },
    {
      "cell_type": "code",
      "source": [
        "try:\n",
        "  print(1/0)\n",
        "except:\n",
        "  print(\"Exception Occured\")\n",
        "finally:\n",
        "  print(\"It runs\")"
      ],
      "metadata": {
        "colab": {
          "base_uri": "https://localhost:8080/"
        },
        "id": "Pl5ovL6B59EC",
        "outputId": "aad16ded-779a-41fb-cc8b-9c7fb76b383d"
      },
      "execution_count": null,
      "outputs": [
        {
          "output_type": "stream",
          "name": "stdout",
          "text": [
            "Exception Occured\n",
            "It runs\n"
          ]
        }
      ]
    },
    {
      "cell_type": "code",
      "source": [],
      "metadata": {
        "id": "hJEJchN06YR7"
      },
      "execution_count": null,
      "outputs": []
    }
  ]
}